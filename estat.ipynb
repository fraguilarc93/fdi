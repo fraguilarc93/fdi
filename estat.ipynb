{
 "cells": [
  {
   "cell_type": "markdown",
   "metadata": {},
   "source": [
    "### 1. Import data in .tsv "
   ]
  },
  {
   "cell_type": "code",
   "execution_count": null,
   "metadata": {},
   "outputs": [],
   "source": [
    "# Import Data\n",
    "import pandas as pd \n",
    "\n",
    "# read tsv_file\n",
    "tsv_file='ESTAT/estat_naio_10_cp1750 (1).tsv'\n",
    "csv_table=pd.read_table(tsv_file,sep='\\t')\n",
    " \n",
    "# converting tsv file into csv\n",
    "csv_table.to_csv('ESTAT/estat_naio_10_cp1750.csv',index=False)"
   ]
  },
  {
   "cell_type": "markdown",
   "metadata": {},
   "source": [
    "### 2. Import data in .csv"
   ]
  },
  {
   "cell_type": "code",
   "execution_count": null,
   "metadata": {},
   "outputs": [],
   "source": [
    "file_path = \"ESTAT/estat.csv\"\n",
    "estat = pd.read_csv(file_path, low_memory=False)"
   ]
  },
  {
   "cell_type": "markdown",
   "metadata": {},
   "source": [
    "### 3. Data for Romania 2012"
   ]
  },
  {
   "cell_type": "code",
   "execution_count": null,
   "metadata": {},
   "outputs": [],
   "source": [
    "## ROMANIA 2012\n",
    "\n",
    "# Filter the dataframe based on conditions\n",
    "filtered_df = estat[\n",
    "    (estat['stk_flow'] == 'DOM') & \n",
    "    (estat['geo'] == 'RO') & \n",
    "    (estat['unit'] == \"MIO_EUR\")\n",
    "].copy()\n",
    "\n",
    "# Ensure the 2012 column is numeric (forcing errors to NaN if necessary)\n",
    "filtered_df['2012'] = pd.to_numeric(filtered_df['2012'], errors='coerce')\n",
    "\n",
    "# Pivot the table to reshape\n",
    "reshaped_df = filtered_df.pivot(index='ind_ava', columns='ind_use', values='2012')\n",
    "\n",
    "# Reset the index to make 'ind_ava' a column instead of an index\n",
    "reshaped_df = reshaped_df.reset_index()\n",
    "\n",
    "# Export to CSV\n",
    "reshaped_df.to_csv(\"ESTAT/rom2012.csv\", index=False)"
   ]
  },
  {
   "cell_type": "markdown",
   "metadata": {},
   "source": [
    "### 4. Data for Romania 2020"
   ]
  },
  {
   "cell_type": "code",
   "execution_count": null,
   "metadata": {},
   "outputs": [],
   "source": [
    "## ROMANIA 2020\n",
    "\n",
    "# Filter the dataframe based on conditions\n",
    "filtered_df = estat[\n",
    "    (estat['stk_flow'] == 'DOM') & \n",
    "    (estat['geo'] == 'RO') & \n",
    "    (estat['unit'] == \"MIO_EUR\")\n",
    "].copy()\n",
    "\n",
    "# Ensure the 2020 column is numeric (forcing errors to NaN if necessary)\n",
    "filtered_df['2020'] = pd.to_numeric(filtered_df['2020'], errors='coerce')\n",
    "\n",
    "# Pivot the table to reshape\n",
    "reshaped_df = filtered_df.pivot(index='ind_ava', columns='ind_use', values='2020')\n",
    "\n",
    "# Reset the index to make 'ind_ava' a column instead of an index\n",
    "reshaped_df = reshaped_df.reset_index()\n",
    "\n",
    "# Export to CSV\n",
    "reshaped_df.to_csv(\"ESTAT/rom2020.csv\", index=False)"
   ]
  },
  {
   "cell_type": "markdown",
   "metadata": {},
   "source": [
    "### 5. Data for Serbia 2020"
   ]
  },
  {
   "cell_type": "code",
   "execution_count": null,
   "metadata": {},
   "outputs": [],
   "source": [
    "## SERBIA 2020\n",
    "# Filter the dataframe based on conditions\n",
    "filtered_df = estat[\n",
    "    (estat['stk_flow'] == 'DOM') & \n",
    "    (estat['geo'] == 'RS') & \n",
    "    (estat['unit'] == \"MIO_EUR\")\n",
    "].copy()\n",
    "\n",
    "# Ensure the 2020 column is numeric (forcing errors to NaN if necessary)\n",
    "filtered_df['2020'] = pd.to_numeric(filtered_df['2020'], errors='coerce')\n",
    "\n",
    "# Pivot the table to reshape\n",
    "reshaped_df = filtered_df.pivot(index='ind_ava', columns='ind_use', values='2020')\n",
    "\n",
    "# Reset the index to make 'ind_ava' a column instead of an index\n",
    "reshaped_df = reshaped_df.reset_index()\n",
    "\n",
    "# Export to CSV\n",
    "reshaped_df.to_csv(\"ESTAT/srb2020.csv\", index=False)"
   ]
  }
 ],
 "metadata": {
  "language_info": {
   "name": "python"
  }
 },
 "nbformat": 4,
 "nbformat_minor": 2
}
